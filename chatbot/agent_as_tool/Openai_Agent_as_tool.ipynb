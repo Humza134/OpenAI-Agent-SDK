{
  "nbformat": 4,
  "nbformat_minor": 0,
  "metadata": {
    "colab": {
      "provenance": [],
      "authorship_tag": "ABX9TyPukdo5ff9ijMHEa9i+M2LH"
    },
    "kernelspec": {
      "name": "python3",
      "display_name": "Python 3"
    },
    "language_info": {
      "name": "python"
    }
  },
  "cells": [
    {
      "cell_type": "code",
      "execution_count": null,
      "metadata": {
        "colab": {
          "base_uri": "https://localhost:8080/"
        },
        "id": "alqd1mCdNw5e",
        "outputId": "2f560d7f-8649-4de7-dc04-f7fde7907b34"
      },
      "outputs": [
        {
          "output_type": "stream",
          "name": "stdout",
          "text": [
            "\u001b[?25l   \u001b[90m━━━━━━━━━━━━━━━━━━━━━━━━━━━━━━━━━━━━━━━━\u001b[0m \u001b[32m0.0/116.8 kB\u001b[0m \u001b[31m?\u001b[0m eta \u001b[36m-:--:--\u001b[0m\r\u001b[2K   \u001b[90m━━━━━━━━━━━━━━━━━━━━━━━━━━━━━━━━━━━━━━━━\u001b[0m \u001b[32m116.8/116.8 kB\u001b[0m \u001b[31m4.4 MB/s\u001b[0m eta \u001b[36m0:00:00\u001b[0m\n",
            "\u001b[?25h\u001b[?25l   \u001b[90m━━━━━━━━━━━━━━━━━━━━━━━━━━━━━━━━━━━━━━━━\u001b[0m \u001b[32m0.0/129.3 kB\u001b[0m \u001b[31m?\u001b[0m eta \u001b[36m-:--:--\u001b[0m\r\u001b[2K   \u001b[90m━━━━━━━━━━━━━━━━━━━━━━━━━━━━━━━━━━━━━━━━\u001b[0m \u001b[32m129.3/129.3 kB\u001b[0m \u001b[31m8.1 MB/s\u001b[0m eta \u001b[36m0:00:00\u001b[0m\n",
            "\u001b[?25h\u001b[?25l   \u001b[90m━━━━━━━━━━━━━━━━━━━━━━━━━━━━━━━━━━━━━━━━\u001b[0m \u001b[32m0.0/76.1 kB\u001b[0m \u001b[31m?\u001b[0m eta \u001b[36m-:--:--\u001b[0m\r\u001b[2K   \u001b[90m━━━━━━━━━━━━━━━━━━━━━━━━━━━━━━━━━━━━━━━━\u001b[0m \u001b[32m76.1/76.1 kB\u001b[0m \u001b[31m4.2 MB/s\u001b[0m eta \u001b[36m0:00:00\u001b[0m\n",
            "\u001b[2K   \u001b[90m━━━━━━━━━━━━━━━━━━━━━━━━━━━━━━━━━━━━━━━━\u001b[0m \u001b[32m661.2/661.2 kB\u001b[0m \u001b[31m20.3 MB/s\u001b[0m eta \u001b[36m0:00:00\u001b[0m\n",
            "\u001b[2K   \u001b[90m━━━━━━━━━━━━━━━━━━━━━━━━━━━━━━━━━━━━━━━━\u001b[0m \u001b[32m44.4/44.4 kB\u001b[0m \u001b[31m2.4 MB/s\u001b[0m eta \u001b[36m0:00:00\u001b[0m\n",
            "\u001b[2K   \u001b[90m━━━━━━━━━━━━━━━━━━━━━━━━━━━━━━━━━━━━━━━━\u001b[0m \u001b[32m72.0/72.0 kB\u001b[0m \u001b[31m3.9 MB/s\u001b[0m eta \u001b[36m0:00:00\u001b[0m\n",
            "\u001b[2K   \u001b[90m━━━━━━━━━━━━━━━━━━━━━━━━━━━━━━━━━━━━━━━━\u001b[0m \u001b[32m62.5/62.5 kB\u001b[0m \u001b[31m3.0 MB/s\u001b[0m eta \u001b[36m0:00:00\u001b[0m\n",
            "\u001b[?25h"
          ]
        }
      ],
      "source": [
        "!pip install -Uq openai-agents"
      ]
    },
    {
      "cell_type": "code",
      "source": [
        "import nest_asyncio\n",
        "nest_asyncio.apply()"
      ],
      "metadata": {
        "id": "kiz77NaXObp9"
      },
      "execution_count": null,
      "outputs": []
    },
    {
      "cell_type": "code",
      "source": [
        "from agents import (\n",
        "    AsyncOpenAI,\n",
        "    OpenAIChatCompletionsModel,\n",
        ")\n",
        "from google.colab import userdata\n",
        "\n",
        "gemini_api_key = userdata.get(\"GEMINI_API_KEY\")\n",
        "\n",
        "\n",
        "# Check if the API key is present; if not, raise an error\n",
        "if not gemini_api_key:\n",
        "    raise ValueError(\"GEMINI_API_KEY is not set. Please ensure it is defined in your .env file.\")\n",
        "\n",
        "#Reference: https://ai.google.dev/gemini-api/docs/openai\n",
        "external_client = AsyncOpenAI(\n",
        "    api_key=gemini_api_key,\n",
        "    base_url=\"https://generativelanguage.googleapis.com/v1beta/openai/\",\n",
        ")\n",
        "\n",
        "model = OpenAIChatCompletionsModel(\n",
        "    model=\"gemini-2.0-flash\",\n",
        "    openai_client=external_client\n",
        ")\n",
        "\n",
        "from agents import set_default_openai_client, set_tracing_disabled\n",
        "\n",
        "set_default_openai_client(external_client)\n",
        "set_tracing_disabled(True)"
      ],
      "metadata": {
        "id": "ojEVydF1OwWE"
      },
      "execution_count": null,
      "outputs": []
    },
    {
      "cell_type": "code",
      "source": [
        "import asyncio\n",
        "from agents import Agent, Runner, ItemHelpers, MessageOutputItem, trace\n",
        "\n",
        "spanish_agent = Agent(\n",
        "    name=\"spanish_agent\",\n",
        "    instructions=\"You translate the user's message to Spanish\",\n",
        "    handoff_description=\"An english to spanish translator\",\n",
        "    model=model\n",
        ")\n",
        "\n",
        "french_agent = Agent(\n",
        "    name=\"french_agent\",\n",
        "    instructions=\"You translate the user's message to French\",\n",
        "    handoff_description=\"An english to french translator\",\n",
        "    model=model\n",
        ")\n",
        "\n",
        "italian_agent = Agent(\n",
        "    name=\"italian_agent\",\n",
        "    instructions=\"You translate the user's message to Italian\",\n",
        "    handoff_description=\"An english to italian translator\",\n",
        "    model=model\n",
        ")\n",
        "\n",
        "orchestrator_agent = Agent(\n",
        "    name=\"orchestrator_agent\",\n",
        "    instructions=(\n",
        "        \"You are a translation agent. You use the tools given to you to translate.\"\n",
        "        \"If asked for multiple translations, you call the relevant tools in order.\"\n",
        "        \"You never translate on your own, you always use the provided tools.\"\n",
        "    ),\n",
        "    tools=[\n",
        "        spanish_agent.as_tool(\n",
        "            tool_name=\"translate_to_spanish\",\n",
        "            tool_description=\"Translate the user's message to Spanish\",\n",
        "        ),\n",
        "        french_agent.as_tool(\n",
        "            tool_name=\"translate_to_french\",\n",
        "            tool_description=\"Translate the user's message to French\",\n",
        "        ),\n",
        "        italian_agent.as_tool(\n",
        "            tool_name=\"translate_to_italian\",\n",
        "            tool_description=\"Translate the user's message to Italian\",\n",
        "        ),\n",
        "    ],\n",
        "    model=model\n",
        ")\n",
        "\n",
        "async def main():\n",
        "    msg = input(\"Hi! What would you like translated, and to which languages? \")\n",
        "    result = await Runner.run(orchestrator_agent, msg)\n",
        "    print(f\"\\n\\nFinal response:\\n{result.final_output}\")\n",
        "\n",
        "if __name__ == \"__main__\":\n",
        "    asyncio.run(main())"
      ],
      "metadata": {
        "colab": {
          "base_uri": "https://localhost:8080/"
        },
        "id": "d4KW16GrOztl",
        "outputId": "b40f7855-19d9-4a49-ecda-023aca8a426d"
      },
      "execution_count": null,
      "outputs": [
        {
          "output_type": "stream",
          "name": "stdout",
          "text": [
            "Hi! What would you like translated, and to which languages? In spanish, Hello\n",
            "\n",
            "\n",
            "Final response:\n",
            "Hola.\n",
            "\n"
          ]
        }
      ]
    },
    {
      "cell_type": "code",
      "source": [
        "from agents import (\n",
        "    AsyncOpenAI,\n",
        "    OpenAIChatCompletionsModel,\n",
        "    Agent,\n",
        "    Runner\n",
        ")\n",
        "from google.colab import userdata\n",
        "import asyncio\n",
        "\n",
        "class TranslationAgent:\n",
        "    def __init__(self, api_key, model_name=\"gemini-2.0-flash\"):\n",
        "        self.api_key = api_key\n",
        "        self.model_name = model_name\n",
        "        self.external_client = self._create_external_client()\n",
        "        self.model = self._create_model()\n",
        "\n",
        "    def _create_external_client(self):\n",
        "        return AsyncOpenAI(\n",
        "            api_key=self.api_key,\n",
        "            base_url=\"https://generativelanguage.googleapis.com/v1beta/openai/\",\n",
        "        )\n",
        "\n",
        "    def _create_model(self):\n",
        "        return OpenAIChatCompletionsModel(\n",
        "            model=self.model_name,\n",
        "            openai_client=self.external_client\n",
        "        )\n",
        "\n",
        "    def create_agent(self, name, instructions, handoff_description):\n",
        "        return Agent(\n",
        "            name=name,\n",
        "            instructions=instructions,\n",
        "            handoff_description=handoff_description,\n",
        "            model=self.model\n",
        "        )\n",
        "\n",
        "    def create_orchestrator_agent(self, tools):\n",
        "        instructions = (\n",
        "            \"You are a translation agent. You use the tools given to you to translate.\"\n",
        "            \"If asked for multiple translations, you call the relevant tools in order.\"\n",
        "            \"You never translate on your own, you always use the provided tools.\"\n",
        "        )\n",
        "        return Agent(\n",
        "            name=\"orchestrator_agent\",\n",
        "            instructions=instructions,\n",
        "            tools=tools,\n",
        "            model=self.model\n",
        "        )\n",
        "\n",
        "    async def run_translation(self, orchestrator_agent, message):\n",
        "        result = await Runner.run(orchestrator_agent, message)\n",
        "        return result.final_output\n",
        "\n",
        "# Get API key\n",
        "gemini_api_key = userdata.get(\"GEMINI_API_KEY\")\n",
        "if not gemini_api_key:\n",
        "    raise ValueError(\"GEMINI_API_KEY is not set. Please ensure it is defined in your .env file.\")\n",
        "\n",
        "# Create translation agent instance\n",
        "translator = TranslationAgent(gemini_api_key)\n",
        "\n",
        "# Create individual translator agents\n",
        "spanish_agent = translator.create_agent(\n",
        "    name=\"spanish_agent\",\n",
        "    instructions=\"You translate the user's message to Spanish\",\n",
        "    handoff_description=\"An english to spanish translator\"\n",
        ")\n",
        "french_agent = translator.create_agent(\n",
        "    name=\"french_agent\",\n",
        "    instructions=\"You translate the user's message to French\",\n",
        "    handoff_description=\"An english to french translator\"\n",
        ")\n",
        "italian_agent = translator.create_agent(\n",
        "    name=\"italian_agent\",\n",
        "    instructions=\"You translate the user's message to Italian\",\n",
        "    handoff_description=\"An english to italian translator\"\n",
        ")\n",
        "\n",
        "# Create orchestrator agent\n",
        "orchestrator_agent = translator.create_orchestrator_agent(tools=[\n",
        "    spanish_agent.as_tool(tool_name=\"translate_to_spanish\", tool_description=\"Translate the user's message to Spanish\"),\n",
        "    french_agent.as_tool(tool_name=\"translate_to_french\", tool_description=\"Translate the user's message to French\"),\n",
        "    italian_agent.as_tool(tool_name=\"translate_to_italian\", tool_description=\"Translate the user's message to Italian\"),\n",
        "])\n",
        "\n",
        "# Run translation\n",
        "async def main():\n",
        "    msg = input(\"Hi! What would you like translated, and to which languages? \")\n",
        "    translated_text = await translator.run_translation(orchestrator_agent, msg)\n",
        "    print(f\"\\n\\nFinal response:\\n{translated_text}\")\n",
        "\n",
        "if __name__ == \"__main__\":\n",
        "    asyncio.run(main())"
      ],
      "metadata": {
        "colab": {
          "base_uri": "https://localhost:8080/"
        },
        "id": "JM1OEWRLgrJt",
        "outputId": "cb7efd76-7394-46d8-98c6-d82b8bd95db3"
      },
      "execution_count": null,
      "outputs": [
        {
          "output_type": "stream",
          "name": "stdout",
          "text": [
            "Hi! What would you like translated, and to which languages? In Spanish, Hello\n",
            "\n",
            "\n",
            "Final response:\n",
            "Hola.\n",
            "\n"
          ]
        }
      ]
    },
    {
      "cell_type": "code",
      "source": [],
      "metadata": {
        "id": "jxyC89WRkBHh"
      },
      "execution_count": null,
      "outputs": []
    }
  ]
}